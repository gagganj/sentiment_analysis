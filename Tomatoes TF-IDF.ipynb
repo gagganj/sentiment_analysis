{
 "cells": [
  {
   "cell_type": "code",
   "execution_count": 6,
   "id": "2ad31a06",
   "metadata": {},
   "outputs": [],
   "source": [
    "import pandas as pd\n",
    "import numpy as np\n",
    "import sklearn\n",
    "from sklearn.feature_extraction.text import CountVectorizer\n",
    "from sklearn.feature_extraction.text import TfidfTransformer\n",
    "\n",
    "phrases = pd.read_pickle(\"clean_rand_sample.pkl\").iloc[:-1, :][0]\n",
    "\n",
    "#create count array (sparse matrix)\n",
    "vectorizer = CountVectorizer(max_features=8000)\n",
    "vectorizerfit = vectorizer.fit_transform(phrases.astype(str))\n",
    "names = vectorizer.get_feature_names_out()\n",
    "count_array = vectorizerfit.toarray()\n",
    "sparse = pd.DataFrame(data=count_array,columns=names)\n",
    "\n",
    "# Transform to a TF-IDF encoding\n",
    "TFIDF = sklearn.feature_extraction.text.TfidfTransformer()\n",
    "phrases_TFIDF = TFIDF.fit_transform(sparse)"
   ]
  },
  {
   "cell_type": "code",
   "execution_count": null,
   "id": "e1410ab8",
   "metadata": {},
   "outputs": [],
   "source": []
  }
 ],
 "metadata": {
  "kernelspec": {
   "display_name": "Python 3 (ipykernel)",
   "language": "python",
   "name": "python3"
  },
  "language_info": {
   "codemirror_mode": {
    "name": "ipython",
    "version": 3
   },
   "file_extension": ".py",
   "mimetype": "text/x-python",
   "name": "python",
   "nbconvert_exporter": "python",
   "pygments_lexer": "ipython3",
   "version": "3.9.12"
  }
 },
 "nbformat": 4,
 "nbformat_minor": 5
}
