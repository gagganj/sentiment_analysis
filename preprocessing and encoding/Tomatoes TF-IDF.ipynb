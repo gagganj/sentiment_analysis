{
 "cells": [
  {
   "cell_type": "code",
   "execution_count": 86,
   "id": "aeb69215",
   "metadata": {},
   "outputs": [
    {
     "name": "stderr",
     "output_type": "stream",
     "text": [
      "[nltk_data] Downloading package stopwords to C:\\Users\\Will\n",
      "[nltk_data]     Boyd\\AppData\\Roaming\\nltk_data...\n",
      "[nltk_data]   Package stopwords is already up-to-date!\n",
      "[nltk_data] Downloading package punkt to C:\\Users\\Will\n",
      "[nltk_data]     Boyd\\AppData\\Roaming\\nltk_data...\n",
      "[nltk_data]   Package punkt is already up-to-date!\n"
     ]
    },
    {
     "name": "stdout",
     "output_type": "stream",
     "text": [
      "       feature  sentiment  label\n",
      "0            !    0.50000      0\n",
      "1          ! '    0.52778      0\n",
      "2         ! ''    0.50000      0\n",
      "3       ! Alas    0.44444      0\n",
      "4  ! Brilliant    0.86111      0\n"
     ]
    }
   ],
   "source": [
    "import pandas as pd\n",
    "import os\n",
    "import numpy as np\n",
    "import sklearn\n",
    "from sklearn.feature_extraction.text import CountVectorizer\n",
    "from sklearn.feature_extraction.text import TfidfTransformer\n",
    "import re\n",
    "import nltk\n",
    "nltk.download('stopwords')\n",
    "nltk.download('punkt')\n",
    "from nltk.corpus import stopwords\n",
    "from nltk.tokenize import word_tokenize\n",
    "from sklearn.feature_extraction.text import CountVectorizer\n",
    "from nltk.stem import WordNetLemmatizer\n",
    "\n",
    "# Load in the dictionary dataset into a pandas df\n",
    "data_path = os.path.join(os.getcwd(), 'data', 'dictionary.txt')\n",
    "dic = pd.read_csv(data_path, sep='|', header=None)\n",
    "\n",
    "# ...and do the same with the sentiment_labels data\n",
    "data_path = os.path.join(os.getcwd(), 'data', 'sentiment_labels.txt')\n",
    "cents = pd.read_csv(data_path, sep='|')\n",
    "\n",
    "dic = dic.rename(columns={0: \"feature\", 1: \"ID\"})# We rename the columns\n",
    "# dic = dic.rename(index={range(239232)})\n",
    "dic = dic.sort_values(by=\"ID\") # We change the order of the rows to be sorted by ID number\n",
    "movie_data = dic[[\"ID\", \"feature\"]] # We change the order of the columns and change the name of the the df\n",
    "\n",
    "# We make an array of the sentiments (already in the right order) and add it to our df\n",
    "y = np.array(cents.iloc[:, -1])\n",
    "movie_data.insert(2, \"sentiment\", y)\n",
    "\n",
    "phrase_data = movie_data.sort_index()\n",
    "phrase_data.drop(\"ID\",axis=1,inplace=True)\n",
    "phrase_data.insert(2,\"label\",0)\n",
    "\n",
    "print(phrase_data.head())\n",
    "\n",
    "phrases = phrase_data"
   ]
  },
  {
   "cell_type": "code",
   "execution_count": 87,
   "id": "9e83c1e1",
   "metadata": {},
   "outputs": [],
   "source": [
    "### add correct labels based on sentiment column (uses qualities of numpy for efficiency)\n",
    "\n",
    "np_phrase = np.array(phrases) # make it a numpy array\n",
    "\n",
    "# create a series of boolean masks\n",
    "vpos = (0.8 < np_phrase[:, 1]).astype(int)\n",
    "pos =  (0.6 < np_phrase[:, 1]).astype(int)\n",
    "ntrl = (0.4 < np_phrase[:, 1]).astype(int)\n",
    "neg = (0.2 < np_phrase[:, 1]).astype(int)\n",
    "vneg = (0 <= np_phrase[:, 1]).astype(int)\n",
    "\n",
    "# add the masks together to get the correct label numbers for each review based on sentiment value\n",
    "h = vneg + neg + ntrl + pos + vpos - 1\n",
    "\n",
    "# update the array with our new values\n",
    "np_phrase[:, 2] = h\n",
    "\n",
    "# change back to a pandas\n",
    "phrases = pd.DataFrame(np_phrase)"
   ]
  },
  {
   "cell_type": "code",
   "execution_count": 88,
   "id": "7d2db8c4",
   "metadata": {},
   "outputs": [
    {
     "name": "stderr",
     "output_type": "stream",
     "text": [
      "C:\\Users\\Will Boyd\\AppData\\Local\\Temp\\ipykernel_10328\\1607633993.py:35: SettingWithCopyWarning: \n",
      "A value is trying to be set on a copy of a slice from a DataFrame\n",
      "\n",
      "See the caveats in the documentation: https://pandas.pydata.org/pandas-docs/stable/user_guide/indexing.html#returning-a-view-versus-a-copy\n",
      "  df.drop(\"index\",axis=1,inplace=True)\n"
     ]
    },
    {
     "name": "stdout",
     "output_type": "stream",
     "text": [
      "                                           0  2\n",
      "0                                      [ala]  2\n",
      "1                                [brilliant]  4\n",
      "2                                   [c, mon]  2\n",
      "3          [gollum, performance, incredible]  3\n",
      "4  [oh, look, clever, angle, wow, jump, cut]  1\n",
      "(149902, 2)\n"
     ]
    }
   ],
   "source": [
    "# Feature importance\n",
    "\n",
    "filler_words = set(stopwords.words('english'))\n",
    "lemmatize = WordNetLemmatizer()\n",
    "\n",
    "#values =[[0, 0.2], [0.2, 0.4], [0.4, 0.6], [0.6, 0.8], [0.8, 1.0]]\n",
    "labels = ['very negative', 'negative', 'neutral', 'positive', 'very positive']\n",
    "to_drop = []\n",
    "\n",
    "phrases_list = list(phrases.iloc[:, 0])\n",
    "\n",
    "for i in range(len(phrases_list)):\n",
    "    # 'clean' phrases: remove numbers, punctuation and filler words\n",
    "    phrase = phrases_list[i]\n",
    "    phrase = re.sub(r'[^\\w]', \" \", phrase) #remove all special characters \n",
    "    cleaned = re.sub(r'[\\d]', \" \", phrase)  #remove all numbers\n",
    "\n",
    "    if (cleaned.replace(\" \",\"\")==\"\"):\n",
    "        to_drop.append(i)\n",
    "        cleaned=\"\"\n",
    "    else:\n",
    "        cleaned = word_tokenize(cleaned.lower()) #tokenise for bag of words\n",
    "        cleaned = [w for w in cleaned if w not in filler_words] # #remove all filler words\n",
    "        cleaned = [lemmatize.lemmatize(word) for word in cleaned]\n",
    "    \n",
    "    phrases_list[i] = cleaned\n",
    "    \n",
    "phrases.iloc[:, 0] = phrases_list\n",
    "\n",
    "# remove unnecessary data\n",
    "phrases.drop(1,axis=1,inplace=True) \n",
    "phrases.drop(to_drop,axis=0,inplace=True)\n",
    "df = phrases[~phrases.astype(str).duplicated()]\n",
    "df.reset_index(inplace=True)\n",
    "df.drop(\"index\",axis=1,inplace=True)\n",
    "print(df.head())\n",
    "print(df.shape)\n",
    "\n",
    "#save this as file\n",
    "df.to_pickle(\"clean_doc.pkl\", protocol=4)"
   ]
  },
  {
   "cell_type": "code",
   "execution_count": 89,
   "id": "dd7a1a0e",
   "metadata": {},
   "outputs": [],
   "source": [
    "phrases = pd.read_pickle(\"clean_doc.pkl\").iloc[:-1, :][0]\n",
    "\n",
    "#create count array (sparse matrix)\n",
    "vectorizer = CountVectorizer(max_features=8000)\n",
    "vectorizerfit = vectorizer.fit_transform(phrases.astype(str))\n",
    "names = vectorizer.get_feature_names_out()\n",
    "count_array = vectorizerfit.toarray()\n",
    "sparse = pd.DataFrame(data=count_array,columns=names)\n",
    "\n",
    "# Transform to a TF-IDF encoding\n",
    "TFIDF = sklearn.feature_extraction.text.TfidfTransformer()\n",
    "phrases_TFIDF = TFIDF.fit_transform(sparse)"
   ]
  },
  {
   "cell_type": "code",
   "execution_count": 90,
   "id": "d49324ba",
   "metadata": {},
   "outputs": [],
   "source": [
    "import pickle\n",
    "\n",
    "with open('TF-IDF.txt', 'wb') as pickle_file:\n",
    "    pickle.dump(phrases_TFIDF, pickle_file)\n",
    "    pickle_file.close()"
   ]
  },
  {
   "cell_type": "code",
   "execution_count": 91,
   "id": "0ebd00d8",
   "metadata": {},
   "outputs": [],
   "source": [
    "y_labels = pd.read_pickle(\"clean_rand_sample.pkl\").iloc[:-1, :][2].astype(int)\n",
    "\n",
    "with open('TF-IDF.txt', 'rb') as pickle_file:\n",
    "    phrases_TFIDF = pickle.load(pickle_file)"
   ]
  },
  {
   "cell_type": "code",
   "execution_count": 92,
   "id": "eef9362b",
   "metadata": {},
   "outputs": [
    {
     "name": "stdout",
     "output_type": "stream",
     "text": [
      "(104930, 8000) (44971, 8000) (104930,)\n"
     ]
    }
   ],
   "source": [
    "#split test and train\n",
    "from sklearn.model_selection import train_test_split\n",
    "from sklearn.linear_model import LogisticRegression\n",
    "\n",
    "y_labels = y_labels.astype(int)\n",
    "\n",
    "x_train, x_test, y_train, y_test = train_test_split(phrases_TFIDF, y_labels, test_size=0.3, random_state=1) # 70% training and 30% test\n",
    "print(x_train.shape,x_test.shape,y_train.ravel().shape)"
   ]
  },
  {
   "cell_type": "code",
   "execution_count": 93,
   "id": "3219b0f0",
   "metadata": {},
   "outputs": [
    {
     "name": "stdout",
     "output_type": "stream",
     "text": [
      "0.5943009625464596\n",
      "0.5346334304329456\n"
     ]
    },
    {
     "data": {
      "image/png": "[encoded data removed]",
      "text/plain": [
       "<Figure size 720x720 with 2 Axes>"
      ]
     },
     "metadata": {
      "needs_background": "light"
     },
     "output_type": "display_data"
    }
   ],
   "source": [
    "from sklearn.metrics import confusion_matrix,ConfusionMatrixDisplay\n",
    "import matplotlib.pyplot as plt\n",
    "import seaborn as sns\n",
    "#log reg\n",
    "\n",
    "clf = LogisticRegression(max_iter=10000)\n",
    "clf.fit(x_train,y_train)\n",
    "print(clf.score(x_train,y_train))\n",
    "print(clf.score(x_test,y_test))\n",
    "\n",
    "matrix = confusion_matrix(y_test,clf.predict(x_test), normalize='true')\n",
    "\n",
    "fig, ax = plt.subplots(figsize=(10, 10))\n",
    "sns.heatmap(matrix, annot=True) \n",
    "\n",
    "ax.set_xticklabels([0, 1, 2, 3, 4]) # ordinal\n",
    "ax.set_yticklabels([0, 1, 2, 3, 4]) # ordinal\n",
    "\n",
    "# ax.set_xticklabels([\"neg\", \"pos\"]) # binary\n",
    "# ax.set_yticklabels([\"neg\", \"pos\"]) # binary\n",
    "\n",
    "ax.set_xlabel('predicted')\n",
    "ax.set_ylabel('true')\n",
    "# plt.savefig(\"logreg_confused.png\")\n",
    "plt.show()"
   ]
  },
  {
   "cell_type": "code",
   "execution_count": null,
   "id": "d391b0e8",
   "metadata": {},
   "outputs": [],
   "source": []
  }
 ],
 "metadata": {
  "kernelspec": {
   "display_name": "Python 3 (ipykernel)",
   "language": "python",
   "name": "python3"
  },
  "language_info": {
   "codemirror_mode": {
    "name": "ipython",
    "version": 3
   },
   "file_extension": ".py",
   "mimetype": "text/x-python",
   "name": "python",
   "nbconvert_exporter": "python",
   "pygments_lexer": "ipython3",
   "version": "3.9.12"
  }
 },
 "nbformat": 4,
 "nbformat_minor": 5
}
