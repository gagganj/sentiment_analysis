{
 "cells": [
  {
   "cell_type": "code",
   "execution_count": 367,
   "id": "7ad4b57d",
   "metadata": {},
   "outputs": [
    {
     "name": "stderr",
     "output_type": "stream",
     "text": [
      "[nltk_data] Downloading package stopwords to C:\\Users\\Will\n",
      "[nltk_data]     Boyd\\AppData\\Roaming\\nltk_data...\n",
      "[nltk_data]   Package stopwords is already up-to-date!\n",
      "[nltk_data] Downloading package punkt to C:\\Users\\Will\n",
      "[nltk_data]     Boyd\\AppData\\Roaming\\nltk_data...\n",
      "[nltk_data]   Package punkt is already up-to-date!\n",
      "[nltk_data] Downloading package wordnet to C:\\Users\\Will\n",
      "[nltk_data]     Boyd\\AppData\\Roaming\\nltk_data...\n",
      "[nltk_data]   Package wordnet is already up-to-date!\n",
      "[nltk_data] Downloading package omw-1.4 to C:\\Users\\Will\n",
      "[nltk_data]     Boyd\\AppData\\Roaming\\nltk_data...\n",
      "[nltk_data]   Package omw-1.4 is already up-to-date!\n"
     ]
    }
   ],
   "source": [
    "import os\n",
    "import pandas as pd\n",
    "import numpy as np\n",
    "import random\n",
    "import sklearn\n",
    "from sklearn import metrics\n",
    "#import tensorflow as tf\n",
    "import matplotlib.pyplot as plt\n",
    "import seaborn as sns\n",
    "import os\n",
    "from sklearn.inspection import PartialDependenceDisplay\n",
    "from sklearn import tree\n",
    "from sklearn.tree import DecisionTreeClassifier, plot_tree\n",
    "from sklearn.tree import export_graphviz\n",
    "from sklearn.model_selection import train_test_split # Import train_test_split function\n",
    "from sklearn import metrics # Import scikit-learn metrics module for accuracy calculation\n",
    "from sklearn import preprocessing # Import preprocessing for String-Int conversion\n",
    "from sklearn.compose import ColumnTransformer\n",
    "from sklearn.preprocessing import OneHotEncoder, StandardScaler, MinMaxScaler\n",
    "from sklearn.model_selection import train_test_split\n",
    "from sklearn.ensemble import RandomForestClassifier\n",
    "from sklearn.metrics import confusion_matrix,ConfusionMatrixDisplay\n",
    "from sklearn.model_selection import GridSearchCV\n",
    "from sklearn.naive_bayes import MultinomialNB\n",
    "from sklearn.linear_model import LogisticRegression\n",
    "from sklearn.metrics import accuracy_score\n",
    "import re\n",
    "import nltk\n",
    "nltk.download('stopwords')\n",
    "nltk.download('punkt')\n",
    "from nltk.corpus import stopwords\n",
    "from nltk.tokenize import word_tokenize\n",
    "from sklearn.feature_extraction.text import CountVectorizer\n",
    "from nltk.stem import WordNetLemmatizer\n",
    "import nltk\n",
    "nltk.download('wordnet')\n",
    "nltk.download('omw-1.4')\n",
    "from collections import Counter\n",
    "import itertools"
   ]
  },
  {
   "cell_type": "code",
   "execution_count": 1298,
   "id": "ece0f6d5",
   "metadata": {},
   "outputs": [
    {
     "name": "stdout",
     "output_type": "stream",
     "text": [
      "       feature  sentiment  label\n",
      "0            !    0.50000      0\n",
      "1          ! '    0.52778      0\n",
      "2         ! ''    0.50000      0\n",
      "3       ! Alas    0.44444      0\n",
      "4  ! Brilliant    0.86111      0\n"
     ]
    }
   ],
   "source": [
    "# Load in the dictionary dataset into a pandas df\n",
    "data_path = os.path.join(os.getcwd(), 'data', 'dictionary.txt')\n",
    "dic = pd.read_csv(data_path, sep='|', header=None)\n",
    "\n",
    "# ...and do the same with the sentiment_labels data\n",
    "data_path = os.path.join(os.getcwd(), 'data', 'sentiment_labels.txt')\n",
    "cents = pd.read_csv(data_path, sep='|')\n",
    "\n",
    "dic = dic.rename(columns={0: \"feature\", 1: \"ID\"})# We rename the columns\n",
    "# dic = dic.rename(index={range(239232)})\n",
    "dic = dic.sort_values(by=\"ID\") # We change the order of the rows to be sorted by ID number\n",
    "movie_data = dic[[\"ID\", \"feature\"]] # We change the order of the columns and change the name of the the df\n",
    "\n",
    "# We make an array of the sentiments (already in the right order) and add it to our df\n",
    "y = np.array(cents.iloc[:, -1])\n",
    "movie_data.insert(2, \"sentiment\", y)\n",
    "\n",
    "phrase_data = movie_data.sort_index()\n",
    "phrase_data.drop(\"ID\",axis=1,inplace=True)\n",
    "phrase_data.insert(2,\"label\",0)\n",
    "\n",
    "print(phrase_data.head())"
   ]
  },
  {
   "cell_type": "code",
   "execution_count": 4,
   "id": "92cc1869",
   "metadata": {},
   "outputs": [
    {
     "data": {
      "text/html": [
       "<div>\n",
       "<style scoped>\n",
       "    .dataframe tbody tr th:only-of-type {\n",
       "        vertical-align: middle;\n",
       "    }\n",
       "\n",
       "    .dataframe tbody tr th {\n",
       "        vertical-align: top;\n",
       "    }\n",
       "\n",
       "    .dataframe thead th {\n",
       "        text-align: right;\n",
       "    }\n",
       "</style>\n",
       "<table border=\"1\" class=\"dataframe\">\n",
       "  <thead>\n",
       "    <tr style=\"text-align: right;\">\n",
       "      <th></th>\n",
       "      <th>feature</th>\n",
       "      <th>sentiment</th>\n",
       "      <th>label</th>\n",
       "    </tr>\n",
       "  </thead>\n",
       "  <tbody>\n",
       "    <tr>\n",
       "      <th>236242</th>\n",
       "      <td>wondering why you 've been watching all this s...</td>\n",
       "      <td>0.38889</td>\n",
       "      <td>0</td>\n",
       "    </tr>\n",
       "    <tr>\n",
       "      <th>54789</th>\n",
       "      <td>The year 's greatest adventure , and Jackson '...</td>\n",
       "      <td>0.69444</td>\n",
       "      <td>0</td>\n",
       "    </tr>\n",
       "    <tr>\n",
       "      <th>229438</th>\n",
       "      <td>was trying to do than of what he had actually ...</td>\n",
       "      <td>0.36111</td>\n",
       "      <td>0</td>\n",
       "    </tr>\n",
       "    <tr>\n",
       "      <th>89428</th>\n",
       "      <td>blab and</td>\n",
       "      <td>0.27778</td>\n",
       "      <td>0</td>\n",
       "    </tr>\n",
       "    <tr>\n",
       "      <th>94877</th>\n",
       "      <td>characterized</td>\n",
       "      <td>0.51389</td>\n",
       "      <td>0</td>\n",
       "    </tr>\n",
       "  </tbody>\n",
       "</table>\n",
       "</div>"
      ],
      "text/plain": [
       "                                                  feature  sentiment  label\n",
       "236242  wondering why you 've been watching all this s...    0.38889      0\n",
       "54789   The year 's greatest adventure , and Jackson '...    0.69444      0\n",
       "229438  was trying to do than of what he had actually ...    0.36111      0\n",
       "89428                                            blab and    0.27778      0\n",
       "94877                                       characterized    0.51389      0"
      ]
     },
     "execution_count": 4,
     "metadata": {},
     "output_type": "execute_result"
    }
   ],
   "source": [
    "### We create a smaller subsample of the dataset - to speed up the computation when working on our code\n",
    "\n",
    "# specify a smaller number of reviews\n",
    "small_N = 2390\n",
    "\n",
    "# choose small_N random and distinct integers between 0 and 239231\n",
    "rand = random.sample(range(239231), small_N)\n",
    "\n",
    "# find these indices in the original dictionary - and make a new array of them\n",
    "rand_sample = phrase_data.iloc[rand]\n",
    "\n",
    "rand_sample.head()"
   ]
  },
  {
   "cell_type": "code",
   "execution_count": 1299,
   "id": "f1490168",
   "metadata": {},
   "outputs": [],
   "source": [
    "### We can use the random sample or the full data set going forward\n",
    "\n",
    "phrases = phrase_data\n",
    "# phrases = rand_sample"
   ]
  },
  {
   "cell_type": "code",
   "execution_count": 1381,
   "id": "6f69f595",
   "metadata": {},
   "outputs": [],
   "source": [
    "### add correct labels based on sentiment column (uses qualities of numpy for efficiency)\n",
    "\n",
    "np_phrase = np.array(phrases) # make it a numpy array\n",
    "\n",
    "# create a series of boolean masks\n",
    "vpos = (0.8 < np_phrase[:, 1]).astype(int)\n",
    "pos =  (0.6 < np_phrase[:, 1]).astype(int)\n",
    "ntrl = (0.4 < np_phrase[:, 1]).astype(int)\n",
    "neg = (0.2 < np_phrase[:, 1]).astype(int)\n",
    "vneg = (0 <= np_phrase[:, 1]).astype(int)\n",
    "\n",
    "# add the masks together to get the correct label numbers for each review based on sentiment value\n",
    "h = vneg + neg + ntrl + pos + vpos - 1\n",
    "\n",
    "# update the array with our new values\n",
    "np_phrase[:, 2] = h\n",
    "\n",
    "# change back to a pandas\n",
    "phrases = pd.DataFrame(np_phrase)"
   ]
  },
  {
   "cell_type": "code",
   "execution_count": null,
   "id": "2543ad05",
   "metadata": {},
   "outputs": [],
   "source": [
    "# I'm commenting the below out cus it takes ages to run and ive got the model and embedding saved #"
   ]
  },
  {
   "cell_type": "code",
   "execution_count": 687,
   "id": "2c4bed36",
   "metadata": {},
   "outputs": [],
   "source": [
    "# ### we are going to train our embedding model on the original review corpus\n",
    "# ### in the hope to capture more semantic information\n",
    "\n",
    "# # opening the file in read mode and reading the file\n",
    "# orig_snip = open(\"original_rt_snippets.txt\")\n",
    "# orig_snip = orig_snip.read()\n",
    "\n",
    "# # spliting into separate lists for each line in the txt file\n",
    "# orig_snip = orig_snip.split(\"\\n\")\n",
    "\n",
    "# # looping over each review\n",
    "# for i in range(len(orig_snip)):\n",
    "    \n",
    "#     orig_snip[i] = orig_snip[i].lower() # lower case\n",
    "    \n",
    "#     orig_snip[i] = re.sub(r'[^\\w]', \" \", orig_snip[i]) # remove all special characters\n",
    "#     orig_snip[i] = re.sub(r'[\\d]', \" \", orig_snip[i]) # ...and numbers\n",
    "    \n",
    "#     orig_snip[i] = nltk.word_tokenize(orig_snip[i]) # make each word an individual string, thus each review is a sublist\n",
    "    \n",
    "#     orig_snip[i] = [word for word in orig_snip[i] if word not in stopwords.words(\"english\")] # removing stop-words\n",
    "#     orig_snip[i] = [lemmatize.lemmatize(word) for word in orig_snip[i]] # lemmatizing (converting to the grammatical root)"
   ]
  },
  {
   "cell_type": "code",
   "execution_count": 1178,
   "id": "5e2ddcda",
   "metadata": {},
   "outputs": [],
   "source": [
    "# orig_snip_clean_edit = orig_snip.copy() # copying the data to save having to run the last chunk again"
   ]
  },
  {
   "cell_type": "code",
   "execution_count": 1179,
   "id": "3fc50419",
   "metadata": {},
   "outputs": [],
   "source": [
    "# ### We are going to remove the 50 most frequent words from the corpus - this should make our embedding more accurate\n",
    "# topmost = 50\n",
    "\n",
    "# word_counts = Counter(itertools.chain.from_iterable(orig_snip_clean_edit))  # counting each word in the corpus\n",
    "# words_most_freq = [k for k, v in word_counts.most_common(topmost)] # getting a list of the top 50\n",
    "\n",
    "# for i in range(len(orig_snip_clean_edit)): # looping over each review\n",
    "    \n",
    "#     # Remove the most frequent words\n",
    "#     orig_snip_clean_edit[i] = [word for word in orig_snip_clean_edit[i] if word not in words_most_freq]"
   ]
  },
  {
   "cell_type": "code",
   "execution_count": 1382,
   "id": "e69e6344",
   "metadata": {},
   "outputs": [],
   "source": [
    "# # importing genism modules and setting up logging\n",
    "# import gensim, logging\n",
    "# logging.basicConfig(format='%(asctime)s : %(levelname)s : %(message)s', level=logging.INFO)\n",
    "\n",
    "# # create our model, specifying our hyperparameters\n",
    "# word2vec = gensim.models.Word2Vec(orig_snip_clean_edit, epochs=3, min_count=5, window=3, vector_size=50)\n",
    "\n",
    "# # saving the model\n",
    "# word2vec.save('word2vec_model')"
   ]
  },
  {
   "cell_type": "code",
   "execution_count": null,
   "id": "00ee1c0b",
   "metadata": {},
   "outputs": [],
   "source": [
    "# word2vec = gensim.models.Word2Vec.load('word2vec_model')"
   ]
  },
  {
   "cell_type": "code",
   "execution_count": 1232,
   "id": "19612e87",
   "metadata": {},
   "outputs": [],
   "source": [
    "# word2vec.wv.most_similar(\"disney\", topn=10)"
   ]
  },
  {
   "cell_type": "code",
   "execution_count": 1321,
   "id": "12e4319d",
   "metadata": {},
   "outputs": [],
   "source": [
    "# ### We clean the dictionary file as we did the original review corpus\n",
    "# dicti = open(\"dictionary-Copy1.txt\")\n",
    "# dicti = dicti.read()\n",
    "\n",
    "# dicti = dicti.split(\"\\n\")\n",
    "\n",
    "# for i in range(len(dicti)):\n",
    "    \n",
    "#     dicti[i] = dicti[i].lower()\n",
    "    \n",
    "#     dicti[i] = re.sub(r'[^\\w]', \" \", dicti[i]) # remove all special characters\n",
    "#     dicti[i] = re.sub(r'[\\d]', \" \", dicti[i]) # ...and numbers\n",
    "    \n",
    "#     dicti[i] = nltk.word_tokenize(dicti[i])\n",
    "    \n",
    "#     dicti[i] = [word for word in dicti[i] if word not in stopwords.words(\"english\")]\n",
    "#     dicti[i] = [lemmatize.lemmatize(word) for word in dicti[i]]"
   ]
  },
  {
   "cell_type": "code",
   "execution_count": null,
   "id": "cb25f485",
   "metadata": {},
   "outputs": [],
   "source": [
    "# Looks like we have an extra row the end (no matter)"
   ]
  },
  {
   "cell_type": "code",
   "execution_count": 1337,
   "id": "624e7171",
   "metadata": {},
   "outputs": [
    {
     "data": {
      "text/plain": [
       "239233"
      ]
     },
     "execution_count": 1337,
     "metadata": {},
     "output_type": "execute_result"
    }
   ],
   "source": [
    "len(dicti)"
   ]
  },
  {
   "cell_type": "code",
   "execution_count": 1273,
   "id": "d44425ad",
   "metadata": {},
   "outputs": [
    {
     "name": "stdout",
     "output_type": "stream",
     "text": [
      "16053 15820\n",
      "16053 15820\n"
     ]
    }
   ],
   "source": [
    "# ### We count the number of words in the original corpus and the dictionary and compare\n",
    "\n",
    "# word_count_dict = Counter(itertools.chain.from_iterable(dicti))\n",
    "# word_count_orig = Counter(itertools.chain.from_iterable(orig_snip))\n",
    "# print(len(word_count_dict.most_common()[0:]), len(word_count_orig.most_common()[0:]))\n",
    "# print(len([k for k, v in word_count_dict.most_common()[0:]]), len([k for k, v in word_count_orig.most_common()[0:]]))"
   ]
  },
  {
   "cell_type": "code",
   "execution_count": 1274,
   "id": "e12f5f11",
   "metadata": {},
   "outputs": [],
   "source": [
    "# ### We create a list of all the words in dictionary that arent in the original snippets corpus (270 spanish words)\n",
    "# ### looks like some spanish reviews are in the dictionary and not in the snippets\n",
    "# odd_words = []\n",
    "# for word in [k for k, v in word_count_dict.most_common()[0:]]:\n",
    "#     if word not in [k for k, v in word_count_orig.most_common()[0:]]:\n",
    "#         odd_words.append(word)"
   ]
  },
  {
   "cell_type": "code",
   "execution_count": 1276,
   "id": "f1112ea8",
   "metadata": {},
   "outputs": [],
   "source": [
    "# ### Our word2vec model removes all words which have less than 5 appearances in the corpus (we find a list of those words)\n",
    "\n",
    "# word_count_orig_clean_edit = Counter(itertools.chain.from_iterable(orig_snip_clean_edit))\n",
    "# below_min_count = [k for k,v in word_count_orig_clean_edit.most_common() if v < 5]"
   ]
  },
  {
   "cell_type": "code",
   "execution_count": 1277,
   "id": "b6e8cd80",
   "metadata": {},
   "outputs": [],
   "source": [
    "# ### We collate the lists of words our word2vec model doesn't have vectors for \n",
    "# ### (top 50 most frequent, below 5 counts, odd spanish words)\n",
    "\n",
    "# for word in words_most_freq:\n",
    "#     below_min_count.append(word)\n",
    "    \n",
    "# for word in odd_words:\n",
    "#     below_min_count.append(word)\n",
    "    \n",
    "# bad_words = below_min_count"
   ]
  },
  {
   "cell_type": "code",
   "execution_count": 1338,
   "id": "21ff1d83",
   "metadata": {},
   "outputs": [],
   "source": [
    "# ### We are going to embed each dictionary sentence by summing all the vectors of the contained words\n",
    "\n",
    "# y_values = h # specify our label vector\n",
    "# X_dicti = np.zeros([len(dicti)-1, 50]) # create an empty array\n",
    "\n",
    "# # looping over all the rows of the dictionary (apart from the empty final one)\n",
    "# for i in range(len(dicti)-1):\n",
    "    \n",
    "#     sent_vec = 0 \n",
    "    \n",
    "#     for word in dicti[i]: # for each word...\n",
    "        \n",
    "#         if word not in bad_words: # ...if the word is contained in our word2vec model...\n",
    "            \n",
    "#             word_vec = word2vec.wv.get_vector(word) #... we get its vector\n",
    "            \n",
    "#             sent_vec += word_vec # ...and we sum them\n",
    "            \n",
    "#     X_dicti[i] = sent_vec"
   ]
  },
  {
   "cell_type": "code",
   "execution_count": 1353,
   "id": "0c5f4976",
   "metadata": {},
   "outputs": [],
   "source": [
    "# # We add the labels\n",
    "# X_wlabels = np.hstack((X_dicti, np.atleast_2d(y_values).T))"
   ]
  },
  {
   "cell_type": "code",
   "execution_count": 1355,
   "id": "3d9c0bf8",
   "metadata": {},
   "outputs": [],
   "source": [
    "# # And remove empty rows (rows from which the above process removed everything)\n",
    "# X_embed_wlabels = X_wlabels[~np.all(X_wlabels[:][:, :-1] == 0, axis=1)]"
   ]
  },
  {
   "cell_type": "code",
   "execution_count": 1371,
   "id": "2065f58a",
   "metadata": {},
   "outputs": [],
   "source": [
    "# # We save the array, and split into X and y\n",
    "# np.save('Embedding array', X_embed_wlabels, allow_pickle=True)\n",
    "# X_embed = X_embed_wlabels[:][:, :-1]\n",
    "# y_labels = X_embed_wlabels[:][:, -1]"
   ]
  },
  {
   "cell_type": "code",
   "execution_count": 1365,
   "id": "9c1f9157",
   "metadata": {},
   "outputs": [
    {
     "name": "stdout",
     "output_type": "stream",
     "text": [
      "(145031, 50) (62157, 50) (145031,)\n"
     ]
    }
   ],
   "source": [
    "#split test and train\n",
    "\n",
    "x_train, x_test, y_train, y_test = train_test_split(X_embed, y_labels, test_size=0.3, random_state=1) # 70% training and 30% test\n",
    "print(x_train.shape,x_test.shape,y_train.ravel().shape)"
   ]
  },
  {
   "cell_type": "code",
   "execution_count": 1377,
   "id": "159a0d29",
   "metadata": {
    "scrolled": true
   },
   "outputs": [],
   "source": [
    "# #naive bayes\n",
    "# clf = MultinomialNB()\n",
    "# clf.fit(x_train,y_train)\n",
    "# print(clf.score(x_train,y_train))\n",
    "# print(clf.score(x_test,y_test))"
   ]
  },
  {
   "cell_type": "code",
   "execution_count": 10,
   "id": "06ca71aa",
   "metadata": {},
   "outputs": [
    {
     "data": {
      "image/png": "[encoded data removed]",
      "text/plain": [
       "<Figure size 720x720 with 2 Axes>"
      ]
     },
     "metadata": {
      "needs_background": "light"
     },
     "output_type": "display_data"
    }
   ],
   "source": [
    "#above not great, maybe add in a regulariser?\n",
    "\n",
    "#confusion matrix\n",
    "matrix = confusion_matrix(y_test,clf.predict(x_test), normalize='true')\n",
    "\n",
    "fig, ax = plt.subplots(figsize=(10, 10))\n",
    "sns.heatmap(matrix, annot=True) \n",
    "ax.set_xticklabels(labels)\n",
    "ax.set_yticklabels(labels)\n",
    "ax.set_xlabel('predicted')\n",
    "ax.set_ylabel('true')\n",
    "# plt.savefig(\"NB_confused.png\")\n",
    "plt.show()"
   ]
  },
  {
   "cell_type": "code",
   "execution_count": 15,
   "id": "c5fd6cd3",
   "metadata": {},
   "outputs": [],
   "source": [
    "# #random forest - grid search for optimal decision tree parameters -maybe try dif criterion\n",
    "# rf_dic={\n",
    "#     \"n_estimators\":[10,50,200,500],\n",
    "#     \"max_features\": [\"sqrt\",\"log2\"],\n",
    "#     \"criterion\": [\"gini\"],\n",
    "#     \"max_depth\": [4,8,30]\n",
    "#     }\n",
    "\n",
    "# rf = RandomForestClassifier(random_state=1)\n",
    "# grid_search = GridSearchCV(estimator=rf,param_grid=rf_dic,cv=3)\n",
    "# grid_search.fit(x_train,y_train)\n",
    "\n",
    "# print(\"the best parameters are: \" +str(grid_search.best_params_))\n",
    "\n",
    "# print(\"accuracy: \" + str(grid_search.best_estimator_.score(x_test, y_test)*100) + \"%\")"
   ]
  },
  {
   "cell_type": "code",
   "execution_count": 16,
   "id": "7fa1c900",
   "metadata": {},
   "outputs": [],
   "source": [
    "# #confusion matrix\n",
    "# matrix = confusion_matrix(y_test,grid_search.best_estimator_.predict(x_test), normalize='true')\n",
    "\n",
    "# fig, ax = plt.subplots(figsize=(10, 10))\n",
    "# sns.heatmap(matrix, annot=True) \n",
    "# ax.set_xticklabels(labels)\n",
    "# ax.set_yticklabels(labels)\n",
    "# ax.set_xlabel('predicted')\n",
    "# ax.set_ylabel('true')\n",
    "# # plt.savefig(\"RandForest_confused.png\")\n",
    "# plt.show()"
   ]
  },
  {
   "cell_type": "code",
   "execution_count": 1372,
   "id": "d94e3d88",
   "metadata": {},
   "outputs": [
    {
     "name": "stdout",
     "output_type": "stream",
     "text": [
      "0.4708786397390903\n",
      "0.472223562913268\n"
     ]
    }
   ],
   "source": [
    "#log reg\n",
    "\n",
    "clf2 = LogisticRegression()\n",
    "clf2.fit(x_train,y_train)\n",
    "print(clf2.score(x_train,y_train))\n",
    "print(clf2.score(x_test,y_test))\n",
    "\n",
    "matrix2 = confusion_matrix(y_test,clf2.predict(x_test), normalize='true')\n"
   ]
  },
  {
   "cell_type": "code",
   "execution_count": 1375,
   "id": "e6d61533",
   "metadata": {},
   "outputs": [
    {
     "data": {
      "image/png": "[encoded data removed]",
      "text/plain": [
       "<Figure size 720x720 with 2 Axes>"
      ]
     },
     "metadata": {
      "needs_background": "light"
     },
     "output_type": "display_data"
    }
   ],
   "source": [
    "fig, ax = plt.subplots(figsize=(10, 10))\n",
    "sns.heatmap(matrix2, annot=True) \n",
    "ax.set_xticklabels([0, 1, 2, 3, 4])\n",
    "ax.set_yticklabels([0, 1, 2, 3, 4])\n",
    "ax.set_xlabel('predicted')\n",
    "ax.set_ylabel('true')\n",
    "# plt.savefig(\"logreg_confused.png\")\n",
    "plt.show()"
   ]
  },
  {
   "cell_type": "code",
   "execution_count": null,
   "id": "263b7c8f",
   "metadata": {},
   "outputs": [],
   "source": []
  }
 ],
 "metadata": {
  "kernelspec": {
   "display_name": "Python 3 (ipykernel)",
   "language": "python",
   "name": "python3"
  },
  "language_info": {
   "codemirror_mode": {
    "name": "ipython",
    "version": 3
   },
   "file_extension": ".py",
   "mimetype": "text/x-python",
   "name": "python",
   "nbconvert_exporter": "python",
   "pygments_lexer": "ipython3",
   "version": "3.9.12"
  }
 },
 "nbformat": 4,
 "nbformat_minor": 5
}
